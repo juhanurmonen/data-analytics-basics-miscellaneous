{
 "cells": [
  {
   "cell_type": "markdown",
   "id": "24754054",
   "metadata": {},
   "source": [
    "# Quick Analysis Tool"
   ]
  },
  {
   "cell_type": "markdown",
   "id": "65678a00",
   "metadata": {},
   "source": [
    "<a href = \"http://myy.haaga-helia.fi/~taaak/\">Aki Taanila</a> has written a <a href=\"https://nbviewer.org/github/taanila/tilastoapu/blob/master/pika.ipynb\">Quick Analysis Tool with Python</a> (Finnish notebook). The result of the tool is an Excel file where you find frequency tables, cross tabulations and essential statistical key figures for analyzing your research data. In this section the Quick Analysis Tool is briefly explained."
   ]
  },
  {
   "cell_type": "markdown",
   "id": "0350bfdf",
   "metadata": {},
   "source": [
    "- You can use your own data below. If you want to read some basic properties of Python and data analytics, read e.g. <a href=\"http://myy.haaga-helia.fi/~nurju/Teaching/#data-analytics-basics\">Basics of Data Analytics with Python</a>.\n",
    "- Run the code.\n",
    "- After running the Python code you find the resulting Excel file open on your desktop."
   ]
  },
  {
   "cell_type": "markdown",
   "id": "39b94e7b",
   "metadata": {},
   "source": [
    "<a href = \"http://myy.haaga-helia.fi/~taaak/\">Aki Taanila</a>'s <a href=\"https://nbviewer.org/github/taanila/tilastoapu/blob/master/pika.ipynb\">Quick Analysis Tool with Python</a>:"
   ]
  },
  {
   "cell_type": "code",
   "execution_count": 1,
   "id": "20597f61",
   "metadata": {},
   "outputs": [],
   "source": [
    "import pandas as pd\n",
    "import xlwings as xw\n",
    "\n",
    "## If the variable has unique values more than the value of Limit, the variable is considered as quantitative. The value of Limit can be changed.\n",
    "\n",
    "Limit = 10\n",
    "\n",
    "## Change your own data here to be fetch from the URL inside the apostrophes\n",
    "## df = pd.read_excel('http://myy.haaga-helia.fi/~menetelmat/Data-analytiikka/Teaching/data1_en.xlsx')\n",
    "\n",
    "### Data can also be retrived from Excel file that open on your desktop. Letäs do taht\n",
    "\n",
    "df = xw.load()"
   ]
  },
  {
   "cell_type": "code",
   "execution_count": 2,
   "id": "2dd0e768",
   "metadata": {},
   "outputs": [],
   "source": [
    "### Preliminary actions\n",
    "\n",
    "### Define the lists; if necessary, leave them empty (mere brackets [])\n",
    "\n",
    "quantitative = []\n",
    "\n",
    "categorical = []\n",
    "\n",
    "for var in df:\n",
    "    if (len(df[var].unique()) > Limit) & (df[var].dtype in ['int64', 'float64']):\n",
    "        quantitative.append(var)\n",
    "    elif len(df[var].unique()) <= Limit:\n",
    "        categorical.append(var)\n",
    "\n",
    "\n",
    "### Prepare Excel\n",
    "\n",
    "app = xw.App(visible = False)\n",
    "\n",
    "### Excel Sheets\n",
    "\n",
    "wb = xw.books.active\n",
    "ws1= wb.sheets.active\n",
    "ws1.name = 'frequency_tables'\n",
    "ws2 = wb.sheets.add('cross-tabulations', after=wb.sheets.count)\n",
    "ws3 = wb.sheets.add('statistical_numbers', after=wb.sheets.count)\n",
    "ws4 = wb.sheets.add('correlations', after=wb.sheets.count)"
   ]
  },
  {
   "cell_type": "code",
   "execution_count": 3,
   "id": "f9b65c07",
   "metadata": {},
   "outputs": [],
   "source": [
    "### Frequency tables\n",
    "\n",
    "if categorical:\n",
    "    # ### We keep a running tally of Excel's row number in the variable called row\n",
    "    row = 1\n",
    "    column = 1\n",
    "    ### We go through all the categorical variables using the for loop\n",
    "    for var in categorical:\n",
    "        ## Calculate frequencies into dataframe named df1\n",
    "        df1 = pd.crosstab(df[var], 'f')\n",
    "        ## Calculate percentages into df1\n",
    "        df1['%'] = df1/df1.sum()\n",
    "        ## Add Total row into df1\n",
    "        df1.loc['Total'] = df1.sum()\n",
    "        \n",
    "        # Write df1 into the sheet frequencies sheet of the Excel file\n",
    "        ws1.range((row, column)).value = df1\n",
    "        \n",
    "        # Formatting\n",
    "        ws1.range((row+1, column+2),(row+len(df1), column+2)).number_format = '0,0 %'\n",
    "        ws1.range((row, column+1), (row, column+2)).api.HorizontalAlignment = -4152\n",
    "        ws1.range((row, column), (row, column+2)).api.Borders(9).Weight = 2\n",
    "        ws1.range((row+len(df1)-1, column), (row+len(df1)-1, column+2)).api.Borders(9).Weight = 2\n",
    "        \n",
    "         # Increase the row number; shape[0] gives the number of rows of the dataframe df1\n",
    "        row = row + df1.shape[0] + 2\n"
   ]
  },
  {
   "cell_type": "code",
   "execution_count": 4,
   "id": "461556f9",
   "metadata": {},
   "outputs": [],
   "source": [
    "### Cross-tabulations\n",
    "\n",
    "if len(categorical) > 1:\n",
    "    row = 1\n",
    "    column = 1\n",
    "    for var1 in categorical:\n",
    "        for var2 in categorical:\n",
    "            if var1 != var2:\n",
    "                df1 = pd.crosstab(df[var1], df[var2])\n",
    "                df2 = pd.crosstab(df[var1], df[var2], normalize='columns')\n",
    "                df2.index.name = var1+'/'+var2 \n",
    "                df2.loc['n'] = df1.sum()\n",
    "                \n",
    "                ## Write the cross-tabulations to the Excel file\n",
    "                ws2.range((row, column)).value = df2\n",
    "                \n",
    "                ## Formatting\n",
    "                ws2.range((row+1, column+1),(row+len(df1), column+df1.shape[1])).number_format = '0,0 %'\n",
    "                ws2.range((row, column+1), (row, column+df1.shape[1])).api.HorizontalAlignment = -4152\n",
    "                ws2.range((row, column), (row, column+df1.shape[1])).api.Borders(9).Weight = 2\n",
    "                ws2.range((row+len(df1), column), (row+len(df1), column+df1.shape[1])).api.Borders(9).Weight = 2\n",
    "                                    \n",
    "                ## Increase the row number\n",
    "                row = row+df2.shape[0]+2\n"
   ]
  },
  {
   "cell_type": "code",
   "execution_count": 5,
   "id": "11c0cfb9",
   "metadata": {},
   "outputs": [],
   "source": [
    "### Statistical key figures\n",
    "            \n",
    "### Statistical key figures for quantitative variables to be written in the sheet named statistical numbers\n",
    "\n",
    "### Names of the statistical numbers\n",
    "\n",
    "statistical_numbers = ['Count', 'Mean', 'Standard Deviation', 'Minimum', \n",
    "              'Lower Quartile', 'Median', 'Upper Quartile', 'Maximum']\n",
    "\n",
    "if quantitative:\n",
    "    row = 1\n",
    "    column = 1\n",
    "    df1 = df[quantitative].describe()\n",
    "    \n",
    "    # Names of statistical numbers used\n",
    "    df1.index = statistical_numbers\n",
    "    \n",
    "    # Write the table of statistical numbers into the Excel file\n",
    "    ws3.range(row, column).value = df1\n",
    "\n",
    "    # Adjustment of column width\n",
    "    ws3.range('A:A').autofit()\n",
    "\n",
    "    # Formatting\n",
    "    ws3.range((row+2, column+1),(row+len(df1), column+df1.shape[1])).number_format = '0,0'\n",
    "    ws3.range((row, column+1), (row, column+df1.shape[1])).api.HorizontalAlignment = -4152\n",
    "    ws3.range((row, column), (row, column+df1.shape[1])).api.Borders(9).Weight = 2\n",
    "    ws3.range((row+len(df1), column), (row+len(df1), column+df1.shape[1])).api.Borders(9).Weight = 2\n",
    "\n",
    "    \n",
    "## Statistical key figures in groups defined by categorical variables\n",
    "\n",
    "if categorical:\n",
    "    row = df1.shape[0]+3\n",
    "    for var1 in categorical:\n",
    "        for var2 in quantitative:\n",
    "            if var1 != var2:\n",
    "                df1 = df.groupby(var1)[var2].describe()\n",
    "                \n",
    "                # Names of statistical numbers used\n",
    "                df1.columns = statistical_numbers\n",
    "                \n",
    "                df1.index.name = var1 + '/' + var2\n",
    "                    \n",
    "                # Write the table of statistical numbers into the Excel file\n",
    "                ws3.range(row, column).value = df1\n",
    "                \n",
    "                # Formatting\n",
    "                ws3.range((row+1, column+2),(row+len(df1), column+df1.shape[1])).number_format = '0,0'\n",
    "                ws3.range((row, column+1), (row, column+df1.shape[1])).api.HorizontalAlignment = -4152\n",
    "                ws3.range((row, column), (row, column+df1.shape[1])).api.Borders(9).Weight = 2\n",
    "                ws3.range((row+len(df1), column), (row+len(df1), column+df1.shape[1])).api.Borders(9).Weight = 2\n",
    "                    \n",
    "                # Increase the row number\n",
    "                row = row + df1.shape[0]+2\n",
    "\n",
    "# Adjustment of the column widths\n",
    "ws3.range('B:I').column_width = 11\n"
   ]
  },
  {
   "cell_type": "code",
   "execution_count": 6,
   "id": "c02edde5",
   "metadata": {},
   "outputs": [],
   "source": [
    "### Correlations\n",
    "\n",
    "if quantitative:\n",
    "    row = 1\n",
    "    range = 1\n",
    "    df1 = df[quantitative].corr()\n",
    "    \n",
    "    # Write the table of correlations into the Excel file\n",
    "    ws4.range(row, column).value = df1\n",
    "    \n",
    "    # Formatting\n",
    "    ws4.range((row+1, column+1),(row+len(df1), column+df1.shape[1])).number_format = '0,000'\n",
    "    ws4.range((row, column+1), (row, column+df1.shape[1])).api.HorizontalAlignment = -4152\n",
    "    ws4.range((row, column), (row, column+df1.shape[1])).api.Borders(9).Weight = 2\n",
    "    ws4.range((row+len(df1), column), (row+len(df1), column+df1.shape[1])).api.Borders(9).Weight = 2"
   ]
  },
  {
   "cell_type": "code",
   "execution_count": 7,
   "id": "374e0e5e",
   "metadata": {},
   "outputs": [],
   "source": [
    "### Make the instance of the Excel file visible\n",
    "\n",
    "ws1.activate()\n",
    "app.visible = True"
   ]
  },
  {
   "cell_type": "markdown",
   "id": "c1356e21",
   "metadata": {},
   "source": [
    "Source: Aki Taanila, https://nbviewer.org/github/taanila/tilastoapu/blob/master/pika.ipynb"
   ]
  },
  {
   "cell_type": "code",
   "execution_count": 8,
   "id": "fd97cb64",
   "metadata": {},
   "outputs": [
    {
     "name": "stdout",
     "output_type": "stream",
     "text": [
      "Last modified 2023-04-21 19:41 by Juha Nurmonen\n"
     ]
    }
   ],
   "source": [
    "import datetime\n",
    "print(f'Last modified {datetime.datetime.now():%Y-%m-%d %H:%M} by Juha Nurmonen')"
   ]
  }
 ],
 "metadata": {
  "kernelspec": {
   "display_name": "Python 3 (ipykernel)",
   "language": "python",
   "name": "python3"
  },
  "language_info": {
   "codemirror_mode": {
    "name": "ipython",
    "version": 3
   },
   "file_extension": ".py",
   "mimetype": "text/x-python",
   "name": "python",
   "nbconvert_exporter": "python",
   "pygments_lexer": "ipython3",
   "version": "3.9.16"
  }
 },
 "nbformat": 4,
 "nbformat_minor": 5
}
